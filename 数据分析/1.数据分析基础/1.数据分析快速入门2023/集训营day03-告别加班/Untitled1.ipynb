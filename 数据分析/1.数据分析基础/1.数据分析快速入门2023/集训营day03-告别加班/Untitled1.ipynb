{
 "cells": [
  {
   "cell_type": "code",
   "execution_count": 1,
   "id": "12016ad9",
   "metadata": {},
   "outputs": [],
   "source": [
    "# 变量就是一个单词\n",
    "\n",
    "a = 7\n",
    "b = 10"
   ]
  },
  {
   "cell_type": "code",
   "execution_count": 2,
   "id": "99e50af3",
   "metadata": {},
   "outputs": [
    {
     "data": {
      "text/plain": [
       "False"
      ]
     },
     "execution_count": 2,
     "metadata": {},
     "output_type": "execute_result"
    }
   ],
   "source": [
    "a > b"
   ]
  },
  {
   "cell_type": "code",
   "execution_count": 3,
   "id": "5c96fa3a",
   "metadata": {},
   "outputs": [
    {
     "data": {
      "text/plain": [
       "True"
      ]
     },
     "execution_count": 3,
     "metadata": {},
     "output_type": "execute_result"
    }
   ],
   "source": [
    "b > a"
   ]
  },
  {
   "cell_type": "code",
   "execution_count": 4,
   "id": "6b5a34c2",
   "metadata": {},
   "outputs": [],
   "source": [
    "c = 3.14"
   ]
  },
  {
   "cell_type": "code",
   "execution_count": 7,
   "id": "d8358257",
   "metadata": {},
   "outputs": [],
   "source": [
    "area = 3.14 * (4**2)"
   ]
  },
  {
   "cell_type": "code",
   "execution_count": 9,
   "id": "5b702ec0",
   "metadata": {},
   "outputs": [
    {
     "name": "stdout",
     "output_type": "stream",
     "text": [
      "50.24\n"
     ]
    }
   ],
   "source": [
    "print(area)"
   ]
  },
  {
   "cell_type": "code",
   "execution_count": 11,
   "id": "44810ce2",
   "metadata": {},
   "outputs": [
    {
     "data": {
      "text/plain": [
       "7"
      ]
     },
     "execution_count": 11,
     "metadata": {},
     "output_type": "execute_result"
    }
   ],
   "source": [
    "a"
   ]
  },
  {
   "cell_type": "code",
   "execution_count": 12,
   "id": "916fb0ef",
   "metadata": {},
   "outputs": [
    {
     "data": {
      "text/plain": [
       "10"
      ]
     },
     "execution_count": 12,
     "metadata": {},
     "output_type": "execute_result"
    }
   ],
   "source": [
    "b"
   ]
  },
  {
   "cell_type": "code",
   "execution_count": 16,
   "id": "43b053df",
   "metadata": {},
   "outputs": [],
   "source": [
    "if a > b:\n",
    "    print('哈哈')"
   ]
  },
  {
   "cell_type": "code",
   "execution_count": 17,
   "id": "d455e0fe",
   "metadata": {},
   "outputs": [
    {
     "name": "stdout",
     "output_type": "stream",
     "text": [
      "专科\n",
      "哈尔滨金融学院\n"
     ]
    }
   ],
   "source": [
    "score = 430\n",
    "\n",
    "if score > 450:\n",
    "    print('本科')\n",
    "    print('华中科技大学')\n",
    "else:\n",
    "    print('专科')\n",
    "    print('哈尔滨金融学院')"
   ]
  },
  {
   "cell_type": "code",
   "execution_count": 20,
   "id": "7f314c7b",
   "metadata": {},
   "outputs": [
    {
     "name": "stdout",
     "output_type": "stream",
     "text": [
      "专科\n"
     ]
    }
   ],
   "source": [
    "score = 300\n",
    "\n",
    "if score > 450:\n",
    "    if score > 500:\n",
    "        print('一本')\n",
    "    else:\n",
    "        print('二本')\n",
    "else:\n",
    "    print('专科')"
   ]
  },
  {
   "cell_type": "code",
   "execution_count": 24,
   "id": "ac3172fa",
   "metadata": {},
   "outputs": [],
   "source": [
    "# 如何表达一组数据\n",
    "\n",
    "arr = [1,2,3,4,5, 2.33, 5.4, 7.2, \"星辰大海\"]"
   ]
  },
  {
   "cell_type": "code",
   "execution_count": 28,
   "id": "3ce7083f",
   "metadata": {},
   "outputs": [
    {
     "data": {
      "text/plain": [
       "2"
      ]
     },
     "execution_count": 28,
     "metadata": {},
     "output_type": "execute_result"
    }
   ],
   "source": [
    "arr[1]"
   ]
  },
  {
   "cell_type": "code",
   "execution_count": 30,
   "id": "b42535ef",
   "metadata": {
    "collapsed": true
   },
   "outputs": [
    {
     "name": "stdout",
     "output_type": "stream",
     "text": [
      "1\n",
      "2\n",
      "3\n",
      "4\n",
      "5\n",
      "2.33\n",
      "5.4\n",
      "7.2\n",
      "星辰大海\n"
     ]
    }
   ],
   "source": [
    "# 循环\n",
    "for box in arr:\n",
    "    print(box)"
   ]
  },
  {
   "cell_type": "code",
   "execution_count": 33,
   "id": "d3f7ca5b",
   "metadata": {},
   "outputs": [],
   "source": [
    "a = 8"
   ]
  },
  {
   "cell_type": "code",
   "execution_count": 34,
   "id": "89755338",
   "metadata": {
    "collapsed": true
   },
   "outputs": [
    {
     "name": "stdout",
     "output_type": "stream",
     "text": [
      "0\n",
      "2\n",
      "4\n",
      "6\n",
      "8\n"
     ]
    }
   ],
   "source": [
    "# 把1-10之间的偶数打印出来\n",
    "for number in range(10):\n",
    "    if number % 2 == 0:\n",
    "        print(number)"
   ]
  },
  {
   "cell_type": "code",
   "execution_count": 35,
   "id": "ea0b3704",
   "metadata": {},
   "outputs": [],
   "source": [
    "# 函数定义\n",
    "def add_function(number1, number2):\n",
    "    result = number1 + number2\n",
    "    return result"
   ]
  },
  {
   "cell_type": "code",
   "execution_count": 39,
   "id": "9c49ed11",
   "metadata": {},
   "outputs": [],
   "source": [
    "# 函数调用\n",
    "c = add_function(1,5)"
   ]
  },
  {
   "cell_type": "code",
   "execution_count": 40,
   "id": "73ed927e",
   "metadata": {},
   "outputs": [
    {
     "name": "stdout",
     "output_type": "stream",
     "text": [
      "6\n"
     ]
    }
   ],
   "source": [
    "print(c)"
   ]
  },
  {
   "cell_type": "code",
   "execution_count": null,
   "id": "729b2f28",
   "metadata": {},
   "outputs": [],
   "source": [
    "# 文件的完整路径要包括文件的存储位置和文件的名字还有文件的后缀"
   ]
  },
  {
   "cell_type": "code",
   "execution_count": null,
   "id": "7f0457d8",
   "metadata": {},
   "outputs": [],
   "source": [
    "'Python操作ppt.pdf'"
   ]
  },
  {
   "cell_type": "code",
   "execution_count": 41,
   "id": "45d2947f",
   "metadata": {},
   "outputs": [],
   "source": [
    "# os 模块是帮我们操作文件的目录（文件夹）\n",
    "import os"
   ]
  },
  {
   "cell_type": "code",
   "execution_count": 43,
   "id": "446167bf",
   "metadata": {},
   "outputs": [],
   "source": [
    "# 查看当前目录下，有哪些文件\n",
    "path = './'\n",
    "\n",
    "file_names = os.listdir(path)"
   ]
  },
  {
   "cell_type": "code",
   "execution_count": 44,
   "id": "0305f97a",
   "metadata": {},
   "outputs": [
    {
     "name": "stdout",
     "output_type": "stream",
     "text": [
      "['.ipynb_checkpoints', 'Python 操作 word文档.pdf', 'Python操作ppt.pdf', 'Untitled.ipynb', 'Untitled1.ipynb', '数据报告模板.pptx', '练习.docx', '练习2.docx', '练习3.docx']\n"
     ]
    }
   ],
   "source": [
    "print(file_names)"
   ]
  },
  {
   "cell_type": "code",
   "execution_count": 47,
   "id": "998e2529",
   "metadata": {},
   "outputs": [
    {
     "data": {
      "text/plain": [
       "False"
      ]
     },
     "execution_count": 47,
     "metadata": {},
     "output_type": "execute_result"
    }
   ],
   "source": [
    "'123.ppt'.endswith('docx')"
   ]
  },
  {
   "cell_type": "code",
   "execution_count": 48,
   "id": "8f366c7c",
   "metadata": {},
   "outputs": [
    {
     "name": "stdout",
     "output_type": "stream",
     "text": [
      "练习.docx\n",
      "练习2.docx\n",
      "练习3.docx\n"
     ]
    }
   ],
   "source": [
    "for fname in file_names:\n",
    "    if fname.endswith('docx'):\n",
    "        print(fname)"
   ]
  },
  {
   "cell_type": "code",
   "execution_count": 49,
   "id": "8f3a5459",
   "metadata": {},
   "outputs": [],
   "source": [
    "# 适用word文档\n",
    "from docx import Document"
   ]
  },
  {
   "cell_type": "code",
   "execution_count": 50,
   "id": "d2c0a934",
   "metadata": {},
   "outputs": [],
   "source": [
    "doc = Document('练习.docx')"
   ]
  },
  {
   "cell_type": "code",
   "execution_count": 51,
   "id": "65bb0228",
   "metadata": {},
   "outputs": [
    {
     "data": {
      "text/plain": [
       "<docx.document.Document at 0x1b7e92ae1c0>"
      ]
     },
     "execution_count": 51,
     "metadata": {},
     "output_type": "execute_result"
    }
   ],
   "source": [
    "# doc存放是练习.docx文件的完整数据的变量（对象）\n",
    "doc"
   ]
  },
  {
   "cell_type": "code",
   "execution_count": 57,
   "id": "5ee4c755",
   "metadata": {},
   "outputs": [
    {
     "name": "stdout",
     "output_type": "stream",
     "text": [
      "Document: \n",
      "是一个 Word 文档 对象，不同于 VBA 中 Worksheet 的概念，Document 是独立的，打开不同的 Word 文档，就会有不同的 Document 对象，相互之间没有影响\n",
      "-------------------------\n",
      "Paragraph: \n",
      "是段落，一个 Word 文档由多个段落组成，当在文档中输入一个回车键，就会成为新的段落，输入 shift + 回车，不会分段\n",
      "-------------------------\n",
      "Run: \n",
      "表示一个节段，\n",
      "一个段落由多个节段组成\n",
      "，一个段落中具有相同样式的连续文本，组成一个节段，所以一个段落对象有Run列表\n",
      "-------------------------\n"
     ]
    }
   ],
   "source": [
    "for para in doc.paragraphs:\n",
    "    for run in para.runs:\n",
    "        print(run.text)\n",
    "    print('-------------------------')"
   ]
  },
  {
   "cell_type": "code",
   "execution_count": 65,
   "id": "47f20181",
   "metadata": {
    "collapsed": true
   },
   "outputs": [
    {
     "name": "stdout",
     "output_type": "stream",
     "text": [
      "1.如果邮箱没有收到激活邮件怎么办？\n",
      "邮件发送具有延迟等待一段时间后再次查询；检查邮件垃圾箱中是否有激活邮件；可以在会员中心点击再次发送激活邮件；尝试更换邮箱再进行激活，路飞学城。\n",
      "\n",
      "2.我如何成为路飞学城会员？\n",
      "未登录路飞学城网站账号时，点击主站顶部注册，在路飞学城注册成功的账号请及时进行激活验证。\n",
      "人物名称：\n",
      "\n",
      "黄药师\n",
      "乔峰\n",
      "郭靖\n",
      "张无忌\n",
      "路飞学城\n",
      "李小龙\n",
      "段誉\n",
      "洪七公\n",
      "小龙女\n",
      "路飞学城\n",
      "王语嫣\n",
      "令狐冲\n"
     ]
    }
   ],
   "source": [
    "doc = Document('练习2.docx')\n",
    "\n",
    "for para in doc.paragraphs:\n",
    "    print(para.text)\n",
    "    \n",
    "    \n",
    "table = doc.tables[0]\n",
    "\n",
    "for row in table.rows:\n",
    "    for cell in row.cells:\n",
    "        print(cell.text)"
   ]
  },
  {
   "cell_type": "code",
   "execution_count": 67,
   "id": "78dd0557",
   "metadata": {},
   "outputs": [],
   "source": [
    "table = doc.tables[0]\n",
    "\n",
    "name = table.rows[1].cells[2].text"
   ]
  },
  {
   "cell_type": "code",
   "execution_count": 68,
   "id": "1cc3f9e9",
   "metadata": {},
   "outputs": [
    {
     "name": "stdout",
     "output_type": "stream",
     "text": [
      "段誉\n"
     ]
    }
   ],
   "source": [
    "print(name)"
   ]
  },
  {
   "cell_type": "code",
   "execution_count": 71,
   "id": "1e2529e3",
   "metadata": {},
   "outputs": [
    {
     "data": {
      "text/plain": [
       "2"
      ]
     },
     "execution_count": 71,
     "metadata": {},
     "output_type": "execute_result"
    }
   ],
   "source": [
    "'段誉说段誉是世界商最帅的王子'.count('段誉')"
   ]
  },
  {
   "cell_type": "code",
   "execution_count": 72,
   "id": "e161f9b9",
   "metadata": {},
   "outputs": [
    {
     "data": {
      "text/plain": [
       "6"
      ]
     },
     "execution_count": 72,
     "metadata": {},
     "output_type": "execute_result"
    }
   ],
   "source": [
    "doc = Document('练习2.docx')\n",
    "\n",
    "target_word = '路飞学城'\n",
    "word_count = 0\n",
    "\n",
    "for para in doc.paragraphs:\n",
    "    number1 = para.text.count(target_word)\n",
    "    word_count = word_count + number1\n",
    "    \n",
    "table = doc.tables[0]\n",
    "\n",
    "for row in table.rows:\n",
    "    for cell in row.cells:\n",
    "        word_count = word_count + cell.text.count(target_word)\n",
    "        \n",
    "word_count"
   ]
  },
  {
   "cell_type": "code",
   "execution_count": 73,
   "id": "bbbfe1f2",
   "metadata": {},
   "outputs": [],
   "source": [
    "# 操作PPT\n",
    "from pptx import Presentation"
   ]
  },
  {
   "cell_type": "code",
   "execution_count": 75,
   "id": "94564bb7",
   "metadata": {},
   "outputs": [],
   "source": [
    "ppt = Presentation('数据报告模板.pptx')"
   ]
  },
  {
   "cell_type": "code",
   "execution_count": 77,
   "id": "51b1dadc",
   "metadata": {
    "collapsed": true
   },
   "outputs": [
    {
     "name": "stdout",
     "output_type": "stream",
     "text": [
      "<pptx.slide.Slide object at 0x000001B7EA927250>\n",
      "<pptx.slide.Slide object at 0x000001B7EA927760>\n",
      "<pptx.slide.Slide object at 0x000001B7EA952160>\n",
      "<pptx.slide.Slide object at 0x000001B7EA952340>\n",
      "<pptx.slide.Slide object at 0x000001B7EA9523A0>\n",
      "<pptx.slide.Slide object at 0x000001B7EA952580>\n"
     ]
    }
   ],
   "source": [
    "for slide in ppt.slides:\n",
    "    print(slide)"
   ]
  },
  {
   "cell_type": "code",
   "execution_count": 89,
   "id": "8727d53d",
   "metadata": {},
   "outputs": [],
   "source": [
    "ppt = Presentation('数据报告模板.pptx')\n",
    "# 找到ppt的第二页\n",
    "ppt1 = ppt.slides[1]\n",
    "\n",
    "for shape in ppt1.shapes:\n",
    "    # 判断有没有文本框\n",
    "    if shape.has_text_frame:\n",
    "        # 有文本框，就继续搜索文本框内的段落\n",
    "        for para in shape.text_frame.paragraphs:\n",
    "            # 因为段落内的文字字体不一样，还要继续定位run\n",
    "            for run in para.runs:\n",
    "                if run.text.endswith('情况'):\n",
    "                    run.text = run.text.replace('情况','复盘')\n",
    "                    \n",
    "ppt.save('ppt_new.pptx')"
   ]
  },
  {
   "cell_type": "code",
   "execution_count": 86,
   "id": "696f288a",
   "metadata": {},
   "outputs": [
    {
     "data": {
      "text/plain": [
       "'销售收入复盘'"
      ]
     },
     "execution_count": 86,
     "metadata": {},
     "output_type": "execute_result"
    }
   ],
   "source": [
    "'销售收入情况'.replace('情况','复盘')"
   ]
  },
  {
   "cell_type": "code",
   "execution_count": 99,
   "id": "ab403692",
   "metadata": {},
   "outputs": [],
   "source": [
    "def create_ppt(name):\n",
    "    ppt = Presentation('职业奖励.pptx')\n",
    "    slide = ppt.slides[0]\n",
    "    for shape in slide.shapes:\n",
    "        if shape.has_text_frame:\n",
    "            for para in shape.text_frame.paragraphs:\n",
    "                for run in para.runs:\n",
    "                    if run.text == 'xxx':\n",
    "                        run.text = name               \n",
    "    ppt.save(f'{name}.pptx')"
   ]
  },
  {
   "cell_type": "code",
   "execution_count": 100,
   "id": "7f906c4b",
   "metadata": {},
   "outputs": [],
   "source": [
    "doc = Document('练习2.docx')\n",
    "\n",
    "table = doc.tables[0]\n",
    "\n",
    "for row in table.rows:\n",
    "    for cell in row.cells:\n",
    "        create_ppt(cell.text)"
   ]
  },
  {
   "cell_type": "code",
   "execution_count": null,
   "id": "7a04afd2",
   "metadata": {},
   "outputs": [],
   "source": []
  }
 ],
 "metadata": {
  "kernelspec": {
   "display_name": "Python 3 (ipykernel)",
   "language": "python",
   "name": "python3"
  },
  "language_info": {
   "codemirror_mode": {
    "name": "ipython",
    "version": 3
   },
   "file_extension": ".py",
   "mimetype": "text/x-python",
   "name": "python",
   "nbconvert_exporter": "python",
   "pygments_lexer": "ipython3",
   "version": "3.9.7"
  },
  "toc": {
   "base_numbering": 1,
   "nav_menu": {},
   "number_sections": true,
   "sideBar": true,
   "skip_h1_title": false,
   "title_cell": "Table of Contents",
   "title_sidebar": "Contents",
   "toc_cell": false,
   "toc_position": {},
   "toc_section_display": true,
   "toc_window_display": false
  }
 },
 "nbformat": 4,
 "nbformat_minor": 5
}
