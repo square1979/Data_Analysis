{
 "cells": [
  {
   "cell_type": "code",
   "execution_count": 7,
   "id": "0c0c52d6",
   "metadata": {},
   "outputs": [],
   "source": [
    "from pptx import Presentation\n",
    "from docx import Document\n",
    "\n",
    "from docx.shared import RGBColor, Pt"
   ]
  },
  {
   "cell_type": "code",
   "execution_count": 6,
   "id": "3faaa02e",
   "metadata": {},
   "outputs": [
    {
     "name": "stdout",
     "output_type": "stream",
     "text": [
      "01\n",
      "销售收入情况\n",
      "basic professional knowledge\n",
      "02\n",
      "费用水平情况\n",
      "improve execution\n",
      "03\n",
      "经营利润情况\n",
      "learning communication skills\n",
      "04\n",
      "资金运用情况\n",
      "improvement of working methods\n",
      "目录\n"
     ]
    }
   ],
   "source": [
    "ppt = Presentation('数据报告模板.pptx')\n",
    "\n",
    "slide = ppt.slides[1]\n",
    "\n",
    "for shape in slide.shapes:\n",
    "    if shape.has_text_frame:\n",
    "        for para in shape.text_frame.paragraphs:\n",
    "            for run in para.runs:\n",
    "                print(run.text)"
   ]
  }
 ],
 "metadata": {
  "kernelspec": {
   "display_name": "Python 3 (ipykernel)",
   "language": "python",
   "name": "python3"
  },
  "language_info": {
   "codemirror_mode": {
    "name": "ipython",
    "version": 3
   },
   "file_extension": ".py",
   "mimetype": "text/x-python",
   "name": "python",
   "nbconvert_exporter": "python",
   "pygments_lexer": "ipython3",
   "version": "3.9.7"
  },
  "toc": {
   "base_numbering": 1,
   "nav_menu": {},
   "number_sections": true,
   "sideBar": true,
   "skip_h1_title": false,
   "title_cell": "Table of Contents",
   "title_sidebar": "Contents",
   "toc_cell": false,
   "toc_position": {},
   "toc_section_display": true,
   "toc_window_display": false
  }
 },
 "nbformat": 4,
 "nbformat_minor": 5
}
