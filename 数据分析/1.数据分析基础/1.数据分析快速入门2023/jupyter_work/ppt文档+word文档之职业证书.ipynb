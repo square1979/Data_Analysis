{
 "cells": [
  {
   "cell_type": "code",
   "execution_count": 14,
   "id": "f822ae3f-a8f9-48ef-a2e2-2b79866ac92c",
   "metadata": {},
   "outputs": [],
   "source": [
    "# 引入相关模块\n",
    "from docx import Document\n",
    "from pptx import Presentation"
   ]
  },
  {
   "cell_type": "code",
   "execution_count": 15,
   "id": "0067bb0f-d3a5-43d5-bea8-ed93a2aade04",
   "metadata": {},
   "outputs": [],
   "source": [
    "def create_ppt(name):\n",
    "    # 获取ppt操作对象\n",
    "    ppt = Presentation('./document/职业奖励.pptx')\n",
    "    # 获取ppt对象的第一张幻灯片\n",
    "    slide = ppt.slides[0]\n",
    "    # 获取slide里的sharp\n",
    "    for sharp in slide.shapes:\n",
    "        # 筛选sharp中包含文本的一项\n",
    "        if sharp.has_text_frame:\n",
    "            # 获取sharp中样式不同的run\n",
    "            for para in sharp.text_frame.paragraphs:\n",
    "                for run in para.runs:\n",
    "                    if run.text == \"Xxx\" :\n",
    "                        run.text = name\n",
    "    ppt.save(f'{name}.pptx')"
   ]
  },
  {
   "cell_type": "code",
   "execution_count": 16,
   "id": "2a5112bf-fe33-4113-9d85-aed301ad10ef",
   "metadata": {},
   "outputs": [],
   "source": [
    "doc = Document('./document/练习2.docx')"
   ]
  },
  {
   "cell_type": "code",
   "execution_count": 17,
   "id": "b385be17-bdf9-4f0d-ba02-373bbb7a555b",
   "metadata": {},
   "outputs": [],
   "source": [
    "table = doc.tables[0]"
   ]
  },
  {
   "cell_type": "code",
   "execution_count": 18,
   "id": "b4e7cbff-f4ef-405b-bfaf-e563d22e3892",
   "metadata": {},
   "outputs": [],
   "source": [
    "for row in table.rows:\n",
    "    for cell in row.cells:\n",
    "        create_ppt(cell.text)"
   ]
  }
 ],
 "metadata": {
  "kernelspec": {
   "display_name": "Python 3 (ipykernel)",
   "language": "python",
   "name": "python3"
  },
  "language_info": {
   "codemirror_mode": {
    "name": "ipython",
    "version": 3
   },
   "file_extension": ".py",
   "mimetype": "text/x-python",
   "name": "python",
   "nbconvert_exporter": "python",
   "pygments_lexer": "ipython3",
   "version": "3.12.4"
  }
 },
 "nbformat": 4,
 "nbformat_minor": 5
}
