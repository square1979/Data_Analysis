{
 "cells": [
  {
   "cell_type": "code",
   "execution_count": 1,
   "id": "e9b0e56a-d6f5-4bdd-96c5-7719e50b2310",
   "metadata": {},
   "outputs": [],
   "source": [
    "# 适用word文档\n",
    "from docx import Document\n"
   ]
  },
  {
   "cell_type": "code",
   "execution_count": 6,
   "id": "513c69b3-146a-4a96-9c69-6b52c09626ba",
   "metadata": {},
   "outputs": [],
   "source": [
    "# doc就是word文件的完整数据的变量\n",
    "doc = Document('./document/练习.docx')"
   ]
  },
  {
   "cell_type": "code",
   "execution_count": 15,
   "id": "03f613b1-9d80-4bca-b984-be449ffe9cae",
   "metadata": {},
   "outputs": [
    {
     "name": "stdout",
     "output_type": "stream",
     "text": [
      "Document: \n",
      "是一个 Word 文档 对象，不同于 VBA 中 Worksheet 的概念，Document 是独立的，打开不同的 Word 文档，就会有不同的 Document 对象，相互之间没有影响\n",
      "--------------\n",
      "Paragraph: \n",
      "是段落，一个 Word 文档由多个段落组成，当在文档中输入一个回车键，就会成为新的段落，输入 shift + 回车，不会分段\n",
      "--------------\n",
      "Run: \n",
      "表示一个节段，\n",
      "一个段落由多个节段组成\n",
      "，一个段落中具有相同样式的连续文本，组成一个节段，所以一个段落对象有Run列表\n",
      "--------------\n"
     ]
    }
   ],
   "source": [
    "# 提取doc文件中的所有段落\n",
    "for para in doc.paragraphs:\n",
    "    for run in para.runs:\n",
    "        print(run.text)\n",
    "    print('--------------')"
   ]
  },
  {
   "cell_type": "code",
   "execution_count": null,
   "id": "9c1837e2-aeb7-45e3-8930-0b528804690b",
   "metadata": {},
   "outputs": [],
   "source": []
  }
 ],
 "metadata": {
  "kernelspec": {
   "display_name": "Python 3 (ipykernel)",
   "language": "python",
   "name": "python3"
  },
  "language_info": {
   "codemirror_mode": {
    "name": "ipython",
    "version": 3
   },
   "file_extension": ".py",
   "mimetype": "text/x-python",
   "name": "python",
   "nbconvert_exporter": "python",
   "pygments_lexer": "ipython3",
   "version": "3.12.4"
  }
 },
 "nbformat": 4,
 "nbformat_minor": 5
}
