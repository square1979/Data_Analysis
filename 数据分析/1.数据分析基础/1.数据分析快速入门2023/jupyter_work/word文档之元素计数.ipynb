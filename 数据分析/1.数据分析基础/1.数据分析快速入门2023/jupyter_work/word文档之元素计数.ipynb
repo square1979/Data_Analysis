{
 "cells": [
  {
   "cell_type": "code",
   "execution_count": 4,
   "id": "f4e2430f-8460-4e2b-9d68-477042cfcd7d",
   "metadata": {},
   "outputs": [],
   "source": [
    "from docx import Document"
   ]
  },
  {
   "cell_type": "code",
   "execution_count": 5,
   "id": "5dd70425-17f0-428b-901a-3edacac61b10",
   "metadata": {},
   "outputs": [],
   "source": [
    "doc = Document('./document/练习2.docx')"
   ]
  },
  {
   "cell_type": "code",
   "execution_count": 12,
   "id": "d3fe5cde-eb94-4a2e-ac94-e736008168d6",
   "metadata": {},
   "outputs": [
    {
     "name": "stdout",
     "output_type": "stream",
     "text": [
      "1.如果邮箱没有收到激活邮件怎么办？\n",
      "邮件发送具有延迟等待一段时间后再次查询；检查邮件垃圾箱中是否有激活邮件；可以在会员中心点击再次发送激活邮件；尝试更换邮箱再进行激活，路飞学城。\n",
      "\n",
      "2.我如何成为路飞学城会员？\n",
      "未登录路飞学城网站账号时，点击主站顶部注册，在路飞学城注册成功的账号请及时进行激活验证。\n",
      "人物名称：\n",
      "\n",
      "*********************\n",
      "3 4\n",
      "*********************\n",
      "黄药师\n",
      "乔峰\n",
      "郭靖\n",
      "张无忌\n",
      "路飞学城\n",
      "李小龙\n",
      "段誉\n",
      "洪七公\n",
      "小龙女\n",
      "路飞学城\n",
      "王语嫣\n",
      "令狐冲\n"
     ]
    }
   ],
   "source": [
    "# 文档中的文字\n",
    "for para in doc.paragraphs:\n",
    "    print(para.text)\n",
    "\n",
    "print('*********************')\n",
    "# 文档中的表格\n",
    "for table in doc.tables:\n",
    "    table = doc.tables[0]\n",
    "    print(len(table.rows),len(table.columns))\n",
    "    print('*********************')\n",
    "\n",
    "    for row in table.rows:\n",
    "        for cell in row.cells:\n",
    "            print(cell.text)\n",
    "\n"
   ]
  },
  {
   "cell_type": "code",
   "execution_count": 13,
   "id": "d7651345-d40a-4645-88be-95161c8c84e8",
   "metadata": {},
   "outputs": [
    {
     "name": "stdout",
     "output_type": "stream",
     "text": [
      "段誉\n"
     ]
    }
   ],
   "source": [
    "table = doc.tables[0]\n",
    "\n",
    "name = table.rows[1].cells[2].text\n",
    "print(name)"
   ]
  },
  {
   "cell_type": "code",
   "execution_count": 14,
   "id": "f4cc770a-1a3a-4bb3-a694-09b693e7e90d",
   "metadata": {},
   "outputs": [],
   "source": [
    "doc = Document('./document/练习2.docx')"
   ]
  },
  {
   "cell_type": "code",
   "execution_count": 21,
   "id": "183036a9-495b-4d3c-ac3c-e659f7ddea69",
   "metadata": {},
   "outputs": [
    {
     "name": "stdout",
     "output_type": "stream",
     "text": [
      "目标字符路飞学城在段落中出现次数为4\n",
      "目标字符路飞学城在文档中出现次数为6\n"
     ]
    }
   ],
   "source": [
    "# 统计路飞学城出现的次数\n",
    "\n",
    "target_word = \"路飞学城\"\n",
    "word_count = 0\n",
    "\n",
    "for para in doc.paragraphs:\n",
    "    num1 = para.text.count(target_word)\n",
    "    word_count = word_count + num1\n",
    "print(f'目标字符{target_word}在段落中出现次数为{word_count}')\n",
    "\n",
    "table = doc.tables[0]\n",
    "\n",
    "for row in table.rows:\n",
    "    for cell in row.cells:\n",
    "        word_count += cell.text.count(target_word)\n",
    "print(f'目标字符{target_word}在文档中出现次数为{word_count}')"
   ]
  }
 ],
 "metadata": {
  "kernelspec": {
   "display_name": "Python 3 (ipykernel)",
   "language": "python",
   "name": "python3"
  },
  "language_info": {
   "codemirror_mode": {
    "name": "ipython",
    "version": 3
   },
   "file_extension": ".py",
   "mimetype": "text/x-python",
   "name": "python",
   "nbconvert_exporter": "python",
   "pygments_lexer": "ipython3",
   "version": "3.12.4"
  }
 },
 "nbformat": 4,
 "nbformat_minor": 5
}
