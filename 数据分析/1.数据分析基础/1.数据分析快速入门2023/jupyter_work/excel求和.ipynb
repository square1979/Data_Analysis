{
 "cells": [
  {
   "cell_type": "code",
   "execution_count": 5,
   "id": "dd017756-04c9-4b8e-a8ab-a9d59efcba1b",
   "metadata": {},
   "outputs": [],
   "source": [
    "import numpy as np\n",
    "import pandas as pd\n",
    "import os"
   ]
  },
  {
   "cell_type": "code",
   "execution_count": 9,
   "id": "f2525967-6fb9-484c-bf6a-302207bd5ef9",
   "metadata": {},
   "outputs": [],
   "source": [
    "data = pd.read_excel('C:/Users/XV/Desktop/1.EXCEL常用函数.xlsx',sheet_name = 'SUMIF',header = [1])"
   ]
  },
  {
   "cell_type": "code",
   "execution_count": 10,
   "id": "b847fb8d-e2da-46dd-a40a-c55476779d2a",
   "metadata": {},
   "outputs": [
    {
     "data": {
      "text/html": [
       "<div>\n",
       "<style scoped>\n",
       "    .dataframe tbody tr th:only-of-type {\n",
       "        vertical-align: middle;\n",
       "    }\n",
       "\n",
       "    .dataframe tbody tr th {\n",
       "        vertical-align: top;\n",
       "    }\n",
       "\n",
       "    .dataframe thead th {\n",
       "        text-align: right;\n",
       "    }\n",
       "</style>\n",
       "<table border=\"1\" class=\"dataframe\">\n",
       "  <thead>\n",
       "    <tr style=\"text-align: right;\">\n",
       "      <th></th>\n",
       "      <th>传票号码</th>\n",
       "      <th>传票日期</th>\n",
       "      <th>会计科目</th>\n",
       "      <th>借/贷</th>\n",
       "      <th>银行名称</th>\n",
       "      <th>支票号码</th>\n",
       "      <th>客户名称</th>\n",
       "      <th>金额</th>\n",
       "      <th>摘要</th>\n",
       "      <th>Unnamed: 9</th>\n",
       "      <th>作业：使用SUMIF函数实现。</th>\n",
       "      <th>Unnamed: 11</th>\n",
       "      <th>Unnamed: 12</th>\n",
       "      <th>Unnamed: 13</th>\n",
       "    </tr>\n",
       "  </thead>\n",
       "  <tbody>\n",
       "    <tr>\n",
       "      <th>0</th>\n",
       "      <td>10001.0</td>\n",
       "      <td>20010801</td>\n",
       "      <td>银行存款</td>\n",
       "      <td>借</td>\n",
       "      <td>工行</td>\n",
       "      <td>BD12879</td>\n",
       "      <td>NaN</td>\n",
       "      <td>80000</td>\n",
       "      <td>订货现款</td>\n",
       "      <td>NaN</td>\n",
       "      <td>汇总：</td>\n",
       "      <td>166400.0</td>\n",
       "      <td>NaN</td>\n",
       "      <td>186000.0</td>\n",
       "    </tr>\n",
       "    <tr>\n",
       "      <th>1</th>\n",
       "      <td>NaN</td>\n",
       "      <td>20010801</td>\n",
       "      <td>应付票据</td>\n",
       "      <td>贷</td>\n",
       "      <td>工行</td>\n",
       "      <td>BD12983</td>\n",
       "      <td>光明电子</td>\n",
       "      <td>43000</td>\n",
       "      <td>NaN</td>\n",
       "      <td>NaN</td>\n",
       "      <td>借方</td>\n",
       "      <td>166400.0</td>\n",
       "      <td>贷方</td>\n",
       "      <td>186000.0</td>\n",
       "    </tr>\n",
       "    <tr>\n",
       "      <th>2</th>\n",
       "      <td>10002.0</td>\n",
       "      <td>20010801</td>\n",
       "      <td>银行存款</td>\n",
       "      <td>贷</td>\n",
       "      <td>工行</td>\n",
       "      <td>NaN</td>\n",
       "      <td>NaN</td>\n",
       "      <td>8000</td>\n",
       "      <td>传真机</td>\n",
       "      <td>NaN</td>\n",
       "      <td>样张</td>\n",
       "      <td>NaN</td>\n",
       "      <td>NaN</td>\n",
       "      <td>NaN</td>\n",
       "    </tr>\n",
       "    <tr>\n",
       "      <th>3</th>\n",
       "      <td>NaN</td>\n",
       "      <td>20010801</td>\n",
       "      <td>应收账款</td>\n",
       "      <td>贷</td>\n",
       "      <td>建行</td>\n",
       "      <td>BD13213</td>\n",
       "      <td>NaN</td>\n",
       "      <td>20000</td>\n",
       "      <td>NaN</td>\n",
       "      <td>NaN</td>\n",
       "      <td>NaN</td>\n",
       "      <td>NaN</td>\n",
       "      <td>NaN</td>\n",
       "      <td>NaN</td>\n",
       "    </tr>\n",
       "    <tr>\n",
       "      <th>4</th>\n",
       "      <td>NaN</td>\n",
       "      <td>20010801</td>\n",
       "      <td>运输费用</td>\n",
       "      <td>借</td>\n",
       "      <td>NaN</td>\n",
       "      <td>NaN</td>\n",
       "      <td>NaN</td>\n",
       "      <td>3200</td>\n",
       "      <td>NaN</td>\n",
       "      <td>NaN</td>\n",
       "      <td>NaN</td>\n",
       "      <td>NaN</td>\n",
       "      <td>NaN</td>\n",
       "      <td>NaN</td>\n",
       "    </tr>\n",
       "  </tbody>\n",
       "</table>\n",
       "</div>"
      ],
      "text/plain": [
       "      传票号码      传票日期  会计科目 借/贷 银行名称     支票号码  客户名称     金额    摘要  Unnamed: 9  \\\n",
       "0  10001.0  20010801  银行存款   借   工行  BD12879   NaN  80000  订货现款         NaN   \n",
       "1      NaN  20010801  应付票据   贷   工行  BD12983  光明电子  43000   NaN         NaN   \n",
       "2  10002.0  20010801  银行存款   贷   工行      NaN   NaN   8000   传真机         NaN   \n",
       "3      NaN  20010801  应收账款   贷   建行  BD13213   NaN  20000   NaN         NaN   \n",
       "4      NaN  20010801  运输费用   借  NaN      NaN   NaN   3200   NaN         NaN   \n",
       "\n",
       "  作业：使用SUMIF函数实现。  Unnamed: 11 Unnamed: 12  Unnamed: 13  \n",
       "0             汇总：     166400.0         NaN     186000.0  \n",
       "1              借方     166400.0          贷方     186000.0  \n",
       "2              样张          NaN         NaN          NaN  \n",
       "3             NaN          NaN         NaN          NaN  \n",
       "4             NaN          NaN         NaN          NaN  "
      ]
     },
     "execution_count": 10,
     "metadata": {},
     "output_type": "execute_result"
    }
   ],
   "source": [
    "data.head()"
   ]
  },
  {
   "cell_type": "code",
   "execution_count": 14,
   "id": "757a003b-c177-437b-9e59-434e6fceb38d",
   "metadata": {},
   "outputs": [
    {
     "data": {
      "text/plain": [
       "np.int64(166400)"
      ]
     },
     "execution_count": 14,
     "metadata": {},
     "output_type": "execute_result"
    }
   ],
   "source": [
    "data.loc[data['借/贷'] == '借','金额'].sum()"
   ]
  },
  {
   "cell_type": "code",
   "execution_count": 15,
   "id": "87ff497e-ded1-4d02-ad05-7e853c2dc3fb",
   "metadata": {},
   "outputs": [
    {
     "data": {
      "text/plain": [
       "np.int64(186000)"
      ]
     },
     "execution_count": 15,
     "metadata": {},
     "output_type": "execute_result"
    }
   ],
   "source": [
    "data.loc[data['借/贷'] == '贷','金额'].sum()"
   ]
  },
  {
   "cell_type": "code",
   "execution_count": null,
   "id": "356bce1d-131c-4889-aeee-13b7f3dba068",
   "metadata": {},
   "outputs": [],
   "source": []
  }
 ],
 "metadata": {
  "kernelspec": {
   "display_name": "Python 3 (ipykernel)",
   "language": "python",
   "name": "python3"
  },
  "language_info": {
   "codemirror_mode": {
    "name": "ipython",
    "version": 3
   },
   "file_extension": ".py",
   "mimetype": "text/x-python",
   "name": "python",
   "nbconvert_exporter": "python",
   "pygments_lexer": "ipython3",
   "version": "3.12.4"
  }
 },
 "nbformat": 4,
 "nbformat_minor": 5
}
