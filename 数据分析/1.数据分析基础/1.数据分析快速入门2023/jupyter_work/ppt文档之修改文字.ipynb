{
 "cells": [
  {
   "cell_type": "code",
   "execution_count": 3,
   "id": "5c4298c8-f76c-416e-bd3a-667c91a91203",
   "metadata": {},
   "outputs": [],
   "source": [
    "# 操作ppt\n",
    "from pptx import Presentation"
   ]
  },
  {
   "cell_type": "code",
   "execution_count": 4,
   "id": "5ba66739-b2e9-4a8f-9037-a55d7d072ae0",
   "metadata": {},
   "outputs": [],
   "source": [
    "ppt = Presentation('./document/数据报告模板.pptx')\n",
    "# 寻找目标页，索引为1\n",
    "ppt1 = ppt.slides[1]"
   ]
  },
  {
   "cell_type": "code",
   "execution_count": 6,
   "id": "bc1eece6-1536-4098-9726-b291edf0225a",
   "metadata": {},
   "outputs": [],
   "source": [
    "# 到段落层级\n",
    "for shape in ppt1.shapes:\n",
    "    # 找到并判断存放文本的框\n",
    "    if shape.has_text_frame: \n",
    "        # 有文本框继续搜索段落\n",
    "        for para in shape.text_frame.paragraphs:\n",
    "            # 继续定位run\n",
    "            for run in para.runs:\n",
    "                if run.text.endswith('情况'):\n",
    "                    run.text = run.text.replace(\"情况\",\"说明\")\n",
    "                    print(run.text)\n",
    "\n",
    "ppt.save('ppt_new.pptx')"
   ]
  },
  {
   "cell_type": "code",
   "execution_count": null,
   "id": "455901d4-5d71-4f9c-bb22-ee5005eedd5d",
   "metadata": {},
   "outputs": [],
   "source": []
  }
 ],
 "metadata": {
  "kernelspec": {
   "display_name": "Python 3 (ipykernel)",
   "language": "python",
   "name": "python3"
  },
  "language_info": {
   "codemirror_mode": {
    "name": "ipython",
    "version": 3
   },
   "file_extension": ".py",
   "mimetype": "text/x-python",
   "name": "python",
   "nbconvert_exporter": "python",
   "pygments_lexer": "ipython3",
   "version": "3.12.4"
  }
 },
 "nbformat": 4,
 "nbformat_minor": 5
}
