{
 "cells": [
  {
   "cell_type": "markdown",
   "metadata": {},
   "source": [
    "- 环境安装\n",
    "    - 利用 python-docx 模块，Python可以批量创建和修改 Word 文档。\n",
    "    - 运行 pip install python-docx，可以安装该模块\n",
    "    - 注意：在第一次用 pip 安装 python-docx 时，注意要安装 python-docx，而不是 docx。\n",
    "        - docx 是指另一个模块，这里我们不必介绍。\n",
    "        - 但是，在导入 python-docx 模块时，需要执行 import docx，而不是 import python-docx。"
   ]
  },
  {
   "cell_type": "code",
   "execution_count": 1,
   "metadata": {},
   "outputs": [],
   "source": [
    "import docx"
   ]
  },
  {
   "cell_type": "markdown",
   "metadata": {},
   "source": [
    "- Word文档的组成结构：\n",
    "    - .docx文档\n",
    "    - 段落\n",
    "    - 内容"
   ]
  },
  {
   "attachments": {
    "image.png": {
     "image/png": "[encoded data removed]"
    }
   },
   "cell_type": "markdown",
   "metadata": {},
   "source": [
    "- python-docx使用说明\n",
    "    - 和纯文本相比，.docx 文件有很多结构。这些结构在 python-docx 中用 3 种不同的类型来表示。在最高一层，Document 对象表示整个文档。Document 对象包含一个 Paragraph 对象的列表，表示文档中的段落（用户在 Word 文档中输入时，如果按下回车，新的段落就开始了）。每个 Paragraph 对象都包含一个 Run 对象的列表。下图的单句段落有 4 个 Run 对象\n",
    "    ![image.png](attachment:image.png)\n",
    "   "
   ]
  },
  {
   "cell_type": "markdown",
   "metadata": {},
   "source": [
    "- 基于Document方法读取word文档"
   ]
  },
  {
   "cell_type": "code",
   "execution_count": 6,
   "metadata": {},
   "outputs": [],
   "source": [
    "import docx"
   ]
  },
  {
   "cell_type": "code",
   "execution_count": 2,
   "metadata": {},
   "outputs": [
    {
     "data": {
      "text/plain": [
       "<docx.document.Document at 0x10af84360>"
      ]
     },
     "execution_count": 2,
     "metadata": {},
     "output_type": "execute_result"
    }
   ],
   "source": [
    "#创建了一个指定的word文档对象\n",
    "doc = docx.Document('./data/demo.docx')\n",
    "doc"
   ]
  },
  {
   "cell_type": "markdown",
   "metadata": {},
   "source": [
    "- 基于paragraphs属性读取文档所有段落"
   ]
  },
  {
   "cell_type": "code",
   "execution_count": 8,
   "metadata": {
    "scrolled": true
   },
   "outputs": [
    {
     "data": {
      "text/plain": [
       "[<docx.text.paragraph.Paragraph at 0x10fb92518>,\n",
       " <docx.text.paragraph.Paragraph at 0x10fb92e48>,\n",
       " <docx.text.paragraph.Paragraph at 0x10fb920f0>,\n",
       " <docx.text.paragraph.Paragraph at 0x10fb92588>,\n",
       " <docx.text.paragraph.Paragraph at 0x10fb92978>,\n",
       " <docx.text.paragraph.Paragraph at 0x10fb92ac8>,\n",
       " <docx.text.paragraph.Paragraph at 0x10fbc9128>,\n",
       " <docx.text.paragraph.Paragraph at 0x10fbc9160>]"
      ]
     },
     "execution_count": 8,
     "metadata": {},
     "output_type": "execute_result"
    }
   ],
   "source": [
    "doc.paragraphs"
   ]
  },
  {
   "cell_type": "code",
   "execution_count": 9,
   "metadata": {},
   "outputs": [
    {
     "data": {
      "text/plain": [
       "<docx.text.paragraph.Paragraph at 0x10fbc9518>"
      ]
     },
     "execution_count": 9,
     "metadata": {},
     "output_type": "execute_result"
    }
   ],
   "source": [
    "#获取指定段落\n",
    "doc.paragraphs[0]"
   ]
  },
  {
   "cell_type": "markdown",
   "metadata": {},
   "source": [
    "- 基于text属性读取指定段落内容的所有内容"
   ]
  },
  {
   "cell_type": "code",
   "execution_count": 56,
   "metadata": {},
   "outputs": [
    {
     "data": {
      "text/plain": [
       "'A plain paragraph with some bold and some italic'"
      ]
     },
     "execution_count": 56,
     "metadata": {},
     "output_type": "execute_result"
    }
   ],
   "source": [
    "doc.paragraphs[2].text"
   ]
  },
  {
   "cell_type": "markdown",
   "metadata": {},
   "source": [
    "- 基于runs读取指定段落内容的组成部分和组成部分的内容"
   ]
  },
  {
   "cell_type": "code",
   "execution_count": 57,
   "metadata": {},
   "outputs": [
    {
     "data": {
      "text/plain": [
       "[<docx.text.Run at 0x10b3432e8>,\n",
       " <docx.text.Run at 0x10b343198>,\n",
       " <docx.text.Run at 0x10b343b00>,\n",
       " <docx.text.Run at 0x10b343160>]"
      ]
     },
     "execution_count": 57,
     "metadata": {},
     "output_type": "execute_result"
    }
   ],
   "source": [
    "doc.paragraphs[2].runs"
   ]
  },
  {
   "cell_type": "code",
   "execution_count": 64,
   "metadata": {},
   "outputs": [
    {
     "data": {
      "text/plain": [
       "'italic'"
      ]
     },
     "execution_count": 64,
     "metadata": {},
     "output_type": "execute_result"
    }
   ],
   "source": [
    "doc.paragraphs[2].runs[3].text"
   ]
  },
  {
   "cell_type": "markdown",
   "metadata": {},
   "source": [
    "- 如何区分python-docx对于run对象的切分"
   ]
  },
  {
   "cell_type": "code",
   "execution_count": 73,
   "metadata": {},
   "outputs": [
    {
     "data": {
      "text/plain": [
       "3"
      ]
     },
     "execution_count": 73,
     "metadata": {},
     "output_type": "execute_result"
    }
   ],
   "source": [
    "#中文段落进行run构成的探测\n",
    "len(doc.paragraphs[1].runs)"
   ]
  },
  {
   "cell_type": "code",
   "execution_count": 74,
   "metadata": {},
   "outputs": [
    {
     "name": "stdout",
     "output_type": "stream",
     "text": [
      "我是你的好朋友\n",
      ",\n",
      "那你喜欢我吗？\n"
     ]
    }
   ],
   "source": [
    "print(doc.paragraphs[1].runs[0].text)\n",
    "print(doc.paragraphs[1].runs[1].text)\n",
    "print(doc.paragraphs[1].runs[2].text)"
   ]
  },
  {
   "cell_type": "code",
   "execution_count": null,
   "metadata": {},
   "outputs": [],
   "source": [
    "#在中文段落中，是以标点符号进行run的构建/切分"
   ]
  },
  {
   "cell_type": "code",
   "execution_count": 75,
   "metadata": {},
   "outputs": [
    {
     "data": {
      "text/plain": [
       "4"
      ]
     },
     "execution_count": 75,
     "metadata": {},
     "output_type": "execute_result"
    }
   ],
   "source": [
    "#对英文段落进行run构成的探测\n",
    "len(doc.paragraphs[2].runs)"
   ]
  },
  {
   "cell_type": "code",
   "execution_count": 76,
   "metadata": {},
   "outputs": [
    {
     "name": "stdout",
     "output_type": "stream",
     "text": [
      "A plain paragraph with some \n",
      "bold\n",
      " and some \n",
      "italic\n"
     ]
    }
   ],
   "source": [
    "print(doc.paragraphs[2].runs[0].text)\n",
    "print(doc.paragraphs[2].runs[1].text)\n",
    "print(doc.paragraphs[2].runs[2].text)\n",
    "print(doc.paragraphs[2].runs[3].text)"
   ]
  },
  {
   "cell_type": "code",
   "execution_count": null,
   "metadata": {},
   "outputs": [],
   "source": [
    "#在英文段落中是以内容的样式进行run的切分"
   ]
  },
  {
   "cell_type": "markdown",
   "metadata": {},
   "source": [
    "- Paragraph 对象调用 len()，结果告诉我们有 4 个 Run 对象。第一个对象包含'A plain paragraph with some '。然后，文本变为粗体样式，所以’bold’开始了一个新的 Run 对象。在这之后，文本又回到了非粗体的样式，这导致了第三个 Run 对象，' and some '。最后，第四个对象包含'italic'，是斜体样式。"
   ]
  },
  {
   "cell_type": "markdown",
   "metadata": {},
   "source": [
    "- 从.docx 文件中取得完整的文本\n",
    "    - 如果你只关心 Word 文档中的文本，不关心样式信息，就可以利用 getText()函数。它接受一个.docx 文件名，返回其中文本的字符串，当然getText函数需要自己实现。"
   ]
  },
  {
   "cell_type": "markdown",
   "metadata": {},
   "source": [
    "getText()函数打开了 Word 文档，循环遍历 paragraphs 列表中的所有 Paragraph对象，然后将它们的文本添加到 fullText 列表中。循环结束后，fullText 中的字符串连接在一起，中间以换行符分隔"
   ]
  },
  {
   "cell_type": "code",
   "execution_count": 3,
   "metadata": {},
   "outputs": [
    {
     "name": "stdout",
     "output_type": "stream",
     "text": [
      "Document Title\n",
      "我是你的好朋友,那你喜欢我吗？\n",
      "A plain paragraph with some bold and some italic\n",
      "Heading, level 1\n",
      "Intense quote\n",
      "first item in unordered list\n",
      "first item in ordered list\n",
      "\n",
      "\n"
     ]
    }
   ],
   "source": [
    "import docx\n",
    "def getText(filename):\n",
    "    doc = docx.Document(filename)\n",
    "    fullText = []\n",
    "    for para in doc.paragraphs:\n",
    "        fullText.append(para.text)\n",
    "    return '\\n'.join(fullText)\n",
    "print(getText('./data/demo.docx'))"
   ]
  },
  {
   "cell_type": "markdown",
   "metadata": {},
   "source": [
    "### 写入 Word 文档\n",
    "- 调用 add_paragraph()方法，添加段落\n",
    "- 调用 add_run()方法，向它传入一个字符串"
   ]
  },
  {
   "cell_type": "code",
   "execution_count": 5,
   "metadata": {},
   "outputs": [],
   "source": [
    "#添加段落内容\n",
    "dc = docx.Document() #创建了一个全新的文档对象\n",
    "p1 = dc.add_paragraph(text='i am a student!i love reading!')\n",
    "p2 = dc.add_paragraph(text='i am a Bobo!i love Money!')\n",
    "\n",
    "dc.save('./data/new_word.docx')"
   ]
  },
  {
   "cell_type": "code",
   "execution_count": 123,
   "metadata": {},
   "outputs": [],
   "source": [
    "#向指定的段落中添加run\n",
    "dc = docx.Document() #创建了一个全新的文档对象\n",
    "p1 = dc.add_paragraph(text='i am a student!i love reading!')\n",
    "p2 = dc.add_paragraph(text='i am a Bobo!i love Money!')\n",
    "\n",
    "p2.add_run(text='我是内容1.')\n",
    "p2.add_run(text='我是内容2.')\n",
    "\n",
    "dc.save('./data/new_word.docx')"
   ]
  },
  {
   "cell_type": "markdown",
   "metadata": {},
   "source": [
    "- 注意：新的 Paragraph 对象只能添加在文档的末尾，新的 Run 对象只能添加在 Paragraph 对象的末尾。"
   ]
  },
  {
   "attachments": {
    "image.png": {
     "image/png": "[encoded data removed]"
    }
   },
   "cell_type": "markdown",
   "metadata": {},
   "source": [
    "- 添加样式\n",
    "    - add_paragraph()和 add_run()都接受可选的第二个参数，它是表示 Paragraph 或Run 对象样式的字符串\n",
    "        - 注意设置run的样式，在样式字符串结尾需要加上Char\n",
    "    ![image.png](attachment:image.png)\n"
   ]
  },
  {
   "cell_type": "code",
   "execution_count": 127,
   "metadata": {},
   "outputs": [],
   "source": [
    "dc = docx.Document() #创建了一个全新的文档对象\n",
    "#指定段落的样式\n",
    "p1 = dc.add_paragraph(text='i am a student!i love reading!',style='Heading1')\n",
    "p2 = dc.add_paragraph(text='i am a Bobo!i love Money!',style='Heading5')\n",
    "\n",
    "p2.add_run(text='我是内容1.')\n",
    "p2.add_run(text='我是内容2.',style='QuoteChar')\n",
    "\n",
    "dc.save('./data/new_word.docx')"
   ]
  },
  {
   "cell_type": "markdown",
   "metadata": {},
   "source": [
    "#### 单独设置文本样式"
   ]
  },
  {
   "cell_type": "markdown",
   "metadata": {},
   "source": [
    "- 设置文字大小"
   ]
  },
  {
   "cell_type": "code",
   "execution_count": 39,
   "metadata": {},
   "outputs": [],
   "source": [
    "from docx import Document\n",
    "from docx.shared import Pt\n",
    "\n",
    "document = Document()\n",
    "p = document.add_paragraph()\n",
    "run = p.add_run('个人简历')  # 使用add_run添加文字\n",
    "run.font.size = Pt(26) #字体大小设置，和word里面的字号相对应，小一\n",
    "\n",
    "document.save('./data/styleBy.docx')  #保存文档"
   ]
  },
  {
   "cell_type": "markdown",
   "metadata": {},
   "source": [
    "- 设置对齐\n",
    "    - 需要导入一个类WD_ALIGN_PARAGRAPH"
   ]
  },
  {
   "cell_type": "code",
   "execution_count": 42,
   "metadata": {},
   "outputs": [],
   "source": [
    "from docx import Document\n",
    "from docx.enum.text import WD_ALIGN_PARAGRAPH\n",
    "\n",
    "document = Document()\n",
    "p = document.add_paragraph()\n",
    "run = p.add_run('自我介绍')  # 使用add_run添加文字\n",
    "p.paragraph_format.alignment = WD_ALIGN_PARAGRAPH.RIGHT    #段落文字居中设置\n",
    "\n",
    "document.save('./data/styleBy.docx')  #保存文档"
   ]
  },
  {
   "cell_type": "markdown",
   "metadata": {},
   "source": [
    "左右对齐，WD_ALIGN_PARAGRAPH.LEFT/RIGHT"
   ]
  },
  {
   "cell_type": "markdown",
   "metadata": {},
   "source": [
    "- 设置文字颜色\n",
    "    - 需要使用RGB颜色"
   ]
  },
  {
   "cell_type": "code",
   "execution_count": 44,
   "metadata": {},
   "outputs": [],
   "source": [
    "from docx import Document\n",
    "from docx.shared import RGBColor\n",
    "\n",
    "document = Document()\n",
    "p = document.add_paragraph()\n",
    "run = p.add_run('自我介绍')  # 使用add_run添加文字\n",
    "\n",
    "run.font.color.rgb = RGBColor(255,0,0)\n",
    "\n",
    "document.save('./data/styleBy.docx')  #保存文档"
   ]
  },
  {
   "cell_type": "markdown",
   "metadata": {},
   "source": [
    "- 字体加粗"
   ]
  },
  {
   "cell_type": "code",
   "execution_count": 45,
   "metadata": {},
   "outputs": [],
   "source": [
    "from docx import Document\n",
    "document = Document()\n",
    "p = document.add_paragraph()\n",
    "run = p.add_run('自我介绍')  # 使用add_run添加文字\n",
    "run_new = p.add_run('字体加粗')  # 使用add_run添加文字\n",
    "\n",
    "run_new.bold = True\n",
    "\n",
    "document.save('./data/styleBy.docx')  #保存文档"
   ]
  },
  {
   "cell_type": "markdown",
   "metadata": {},
   "source": [
    "- 设置字体"
   ]
  },
  {
   "cell_type": "code",
   "execution_count": 47,
   "metadata": {},
   "outputs": [],
   "source": [
    "from docx import Document\n",
    "from docx.oxml.ns import qn\n",
    "\n",
    "document = Document()\n",
    "p = document.add_paragraph()\n",
    "run = p.add_run('天生我才必有用！')  # 使用add_run添加文字\n",
    "document.styles['Normal'].font.name = '华文行楷'  # 设置字体\n",
    "document.styles['Normal']._element.rPr.rFonts.set(qn('w:eastAsia'), '华文行楷')\n",
    "\n",
    "document.save('./data/styleBy.docx')  #保存文档"
   ]
  },
  {
   "cell_type": "markdown",
   "metadata": {},
   "source": [
    "- 添加标题\n",
    "    - 调用 add_heading()将添加一个段落，并使用一种标题样式\n",
    "    - add_heading()的参数，是一个标题文本的字符串，以及一个从 0 到 4 的整数。整数 0 表示标题是 Title 样式，这用于文档的顶部。整数 1 到 4 是不同的标题层次，1是主要的标题，4 是最低层的子标题。add_heading()返回一个 Paragraph 对象，让你不必多花一步从 Document 对象中提取它。"
   ]
  },
  {
   "cell_type": "code",
   "execution_count": 129,
   "metadata": {},
   "outputs": [],
   "source": [
    "doc = docx.Document()\n",
    "doc.add_heading('Header 0', 0)\n",
    "doc.add_heading('Header 1', 1)\n",
    "doc.add_heading('Header 2', 2)\n",
    "doc.add_heading('Header 3', 3)\n",
    "doc.add_heading('Header 4', 4)\n",
    "doc.save('./data/headings.docx')"
   ]
  },
  {
   "cell_type": "markdown",
   "metadata": {},
   "source": [
    "- 添加换行符和换页符\n",
    "    - 要添加换行符（而不是开始一个新的段落），可以在 Run 对象上调用 add_break()方法，换行符将出现在它后面。如果希望添加换页符，可以将 docx.text.WD_BREAK.PAGE作为唯一的参数，传递给 add_break()"
   ]
  },
  {
   "cell_type": "code",
   "execution_count": 143,
   "metadata": {},
   "outputs": [
    {
     "name": "stdout",
     "output_type": "stream",
     "text": [
      "2\n"
     ]
    }
   ],
   "source": [
    "#换行符\n",
    "dc = docx.Document()\n",
    "dc.add_paragraph('i am a teacher!')\n",
    "dc.paragraphs[0].runs[0].add_break() #添加一个换行符\n",
    "dc.paragraphs[0].add_run('hello!!!')\n",
    "dc.add_paragraph('i am a student!')\n",
    "print(len(dc.paragraphs))\n",
    "dc.save('./data/new.docx')"
   ]
  },
  {
   "cell_type": "code",
   "execution_count": 145,
   "metadata": {},
   "outputs": [
    {
     "name": "stdout",
     "output_type": "stream",
     "text": [
      "2\n"
     ]
    }
   ],
   "source": [
    "#换页符号\n",
    "dc = docx.Document()\n",
    "dc.add_paragraph('i am a teacher!')\n",
    "dc.paragraphs[0].runs[0].add_break(docx.text.WD_BREAK.PAGE) #添加一个换行符\n",
    "dc.add_paragraph('i am a student!')\n",
    "print(len(dc.paragraphs))\n",
    "dc.save('./data/new.docx')"
   ]
  },
  {
   "cell_type": "markdown",
   "metadata": {},
   "source": [
    "- 添加图像\n",
    "    - Document 对象有一个 add_picture()方法，让你在文档中添加图像\n",
    "        - 第一个参数是一个字符串，表示图像的文件名。\n",
    "        - 可选的 width 和 height 关键字参数，将设置该图像在文档中的宽度和高度。如果省略，宽度和高度将采用默认值，即该图像的正常尺寸。\n",
    "            - 你可能愿意用熟悉的单位来指定图像的高度和宽度，诸如英寸或厘米。所以在指定width 和height 关键字参数时，可以使用docx.shared.Inches()和 docx.shared.Cm()函数。"
   ]
  },
  {
   "cell_type": "markdown",
   "metadata": {},
   "source": [
    "- 向新文档任意位置添加图片"
   ]
  },
  {
   "cell_type": "code",
   "execution_count": 56,
   "metadata": {},
   "outputs": [],
   "source": [
    "doc = docx.Document()\n",
    "doc.add_paragraph('This is on the first page!')\n",
    "\n",
    "doc.add_picture('./data/zophie.png', width=docx.shared.Inches(10),height=docx.shared.Cm(20))\n",
    "\n",
    "doc.add_paragraph('This is on the second page!')\n",
    "doc.save('./data/twoPage.docx')"
   ]
  },
  {
   "cell_type": "markdown",
   "metadata": {},
   "source": [
    "- 向已有的文档添加添加图片"
   ]
  },
  {
   "cell_type": "code",
   "execution_count": 57,
   "metadata": {},
   "outputs": [],
   "source": [
    "doc = docx.Document('./data/twoPage.docx')\n",
    "doc.add_picture('./data/zophie.png', width=docx.shared.Inches(3),height=docx.shared.Cm(5))\n",
    "doc.save('./data/twoPage.docx')"
   ]
  },
  {
   "cell_type": "markdown",
   "metadata": {},
   "source": [
    "#### 添加表格"
   ]
  },
  {
   "cell_type": "markdown",
   "metadata": {},
   "source": [
    "- 创建表格\n",
    "    - 基于Document的add_table方法增加一个表格\n",
    "    - 参数：\n",
    "        - rows\n",
    "        - cols\n",
    "        - style"
   ]
  },
  {
   "cell_type": "code",
   "execution_count": 82,
   "metadata": {},
   "outputs": [],
   "source": [
    "doc = docx.Document()\n",
    "tb = doc.add_table(rows=3,cols=3,style='Light List Accent 3')"
   ]
  },
  {
   "cell_type": "markdown",
   "metadata": {},
   "source": [
    "- 常用的表格样式：\n",
    "    - Light Shading\n",
    "    - Light Shading Accent 1-6\n",
    "    - Light List Accent 1-6\n",
    "    - Light Grid Accent 1-6\n",
    "    - Medium Shading 1 Accent 1-6\n",
    "    - ......"
   ]
  },
  {
   "cell_type": "markdown",
   "metadata": {},
   "source": [
    "- 向表格中添加数据\n",
    "    - 依次访问到表格中的每一个cell，然后按照指定要求填充数据即可\n",
    "        - 基于rows属性和cells属性可以逐步访问到表格中的cell\n",
    "        - 基于add_paragraph方法即可像cell里添加文本"
   ]
  },
  {
   "cell_type": "code",
   "execution_count": 84,
   "metadata": {},
   "outputs": [
    {
     "data": {
      "text/plain": [
       "[<docx.table._Row at 0x10e1e6ba8>,\n",
       " <docx.table._Row at 0x10e1e6e80>,\n",
       " <docx.table._Row at 0x10e1e6908>]"
      ]
     },
     "execution_count": 84,
     "metadata": {},
     "output_type": "execute_result"
    }
   ],
   "source": [
    "#rows返回所有的行对象\n",
    "list(tb.rows)"
   ]
  },
  {
   "cell_type": "code",
   "execution_count": 86,
   "metadata": {},
   "outputs": [
    {
     "data": {
      "text/plain": [
       "[<docx.table._Column at 0x10e1e5e10>,\n",
       " <docx.table._Column at 0x10e1e5ef0>,\n",
       " <docx.table._Column at 0x10e1e5cc0>]"
      ]
     },
     "execution_count": 86,
     "metadata": {},
     "output_type": "execute_result"
    }
   ],
   "source": [
    "#columns返回所有列对象\n",
    "list(tb.columns)"
   ]
  },
  {
   "cell_type": "code",
   "execution_count": 89,
   "metadata": {},
   "outputs": [
    {
     "data": {
      "text/plain": [
       "(<docx.table._Cell at 0x10e1e5f98>,\n",
       " <docx.table._Cell at 0x10e1e5048>,\n",
       " <docx.table._Cell at 0x10e1e52b0>)"
      ]
     },
     "execution_count": 89,
     "metadata": {},
     "output_type": "execute_result"
    }
   ],
   "source": [
    "#cells返回行中所有的单元格\n",
    "tb.rows[0].cells "
   ]
  },
  {
   "cell_type": "code",
   "execution_count": 90,
   "metadata": {},
   "outputs": [
    {
     "data": {
      "text/plain": [
       "<docx.text.paragraph.Paragraph at 0x10e26e080>"
      ]
     },
     "execution_count": 90,
     "metadata": {},
     "output_type": "execute_result"
    }
   ],
   "source": [
    "#向cell中添加数据\n",
    "tb.rows[0].cells[0].add_paragraph('hello')"
   ]
  },
  {
   "cell_type": "code",
   "execution_count": 91,
   "metadata": {},
   "outputs": [],
   "source": [
    "#批量填充表格\n",
    "alist = ['name','salary','address','bobo','10000','BJ','bobo1','20000','SH']\n",
    "i = 0\n",
    "for row in tb.rows:\n",
    "    for cell in row.cells:\n",
    "        cell.add_paragraph(text=alist[i])\n",
    "        i+=1\n",
    "doc.save('./data/table.docx')"
   ]
  },
  {
   "cell_type": "markdown",
   "metadata": {},
   "source": [
    "- 添加行列\n",
    "    - add_row()\n",
    "    - add_column()"
   ]
  },
  {
   "cell_type": "code",
   "execution_count": 92,
   "metadata": {},
   "outputs": [],
   "source": [
    "tb.add_row()\n",
    "tb.add_column(docx.shared.Cm(3))\n",
    "doc.save('./data/table.docx')"
   ]
  },
  {
   "cell_type": "markdown",
   "metadata": {},
   "source": [
    "- 设置表格列宽 & 行高\n",
    "    - 列宽：基于表格的cell设置其width属性\n",
    "    - 行高：基于表格的行设置其height属性"
   ]
  },
  {
   "cell_type": "code",
   "execution_count": 94,
   "metadata": {},
   "outputs": [],
   "source": [
    "#设置下行高\n",
    "tb.rows[0].height = docx.shared.Cm(3)"
   ]
  },
  {
   "cell_type": "code",
   "execution_count": 95,
   "metadata": {},
   "outputs": [],
   "source": [
    "#设置列宽\n",
    "tb.rows[0].cells[0].width = docx.shared.Cm(10)"
   ]
  },
  {
   "cell_type": "code",
   "execution_count": 96,
   "metadata": {},
   "outputs": [],
   "source": [
    "doc.save('./data/table.docx')"
   ]
  },
  {
   "cell_type": "markdown",
   "metadata": {},
   "source": [
    "- 表格cell的合并\n",
    "    - merge方法"
   ]
  },
  {
   "cell_type": "code",
   "execution_count": 98,
   "metadata": {},
   "outputs": [],
   "source": [
    "c1 = tb.cell(0,1)\n",
    "c2 = tb.cell(1,1)\n",
    "c1.merge(c2)\n",
    "doc.save('./data/table.docx')"
   ]
  },
  {
   "cell_type": "markdown",
   "metadata": {},
   "source": [
    "### 实践：生成电视剧简介海报\n"
   ]
  },
  {
   "cell_type": "code",
   "execution_count": 2,
   "metadata": {},
   "outputs": [],
   "source": [
    "from docx import Document\n",
    "from docx.shared import Pt\n",
    "from docx.enum.text import WD_ALIGN_PARAGRAPH\n",
    "from docx.oxml.ns import qn\n",
    "from docx.shared import RGBColor\n",
    "from docx.shared import Inches\n",
    "#标题\n",
    "document = Document()\n",
    "p = document.add_paragraph()\n",
    "run = p.add_run('琅琊榜')  # 使用add_run添加文字\n",
    "run.font.size = Pt(26) #字体大小设置，和word里面的字号相对应，小一\n",
    "p.paragraph_format.alignment = WD_ALIGN_PARAGRAPH.CENTER    #段落文字居中设置\n",
    "run.bold = True  # 字体加粗\n",
    "document.styles['Normal'].font.name = '宋体'  # 设置字体\n",
    "document.styles['Normal']._element.rPr.rFonts.set(qn('w:eastAsia'), '宋体')\n",
    "run.font.color.rgb = RGBColor(255,0,0) #颜色设置，这里是用RGB颜色\n",
    "\n",
    "#图片\n",
    "pic = document.add_picture('./data/huge.png',width = Inches(5))  # 添加图片\n",
    "last_paragraph = document.paragraphs[-1]\n",
    "last_paragraph.alignment = WD_ALIGN_PARAGRAPH.CENTER      #图片居中设置\n",
    "\n",
    "#剧情简介\n",
    "p = document.add_paragraph()\n",
    "run = p.add_run('剧情简介')\n",
    "run.font.size = Pt(22)  # 二号\n",
    "run.bold = True\n",
    "\n",
    "p = document.add_paragraph()\n",
    "run = p.add_run('梅长苏（胡歌饰）本远在江湖，却名动帝辇。江湖传言：“江左梅郎，麒麟之才，得之可得天下。”作为天下第一大帮“江左盟”的首领，梅长苏“梅郎”之名响誉江湖。然而，有着江湖至尊地位的梅长苏，却是一个病弱青年、弱不禁风，背负着十多年前巨大的冤案与血海深仇，就连身世背后也隐藏着巨大的秘密。')\n",
    "p_format = p.paragraph_format\n",
    "p_format.first_line_indent = Inches(0.2)  # 首行缩进\n",
    "\n",
    "document.add_paragraph(text='\\r', style=None)  # 换行\n",
    "\n",
    "p = document.add_paragraph()\n",
    "run = p.add_run('音乐原声')\n",
    "run.font.size = Pt(22)  # 二号\n",
    "run.bold = True\n",
    "\n",
    "table = document.add_table(rows=4, cols=5) \n",
    "def th(x,y,content):\n",
    "    \"\"\"\n",
    "    th样式\n",
    "    :param x: x坐标\n",
    "    :param y: y坐标\n",
    "    :param content: 内容\n",
    "    :return: None\n",
    "    \"\"\"\n",
    "    # print(grid,content)\n",
    "    run = table.cell(x,y).paragraphs[0].add_run(content)\n",
    "    run.bold = True  # 加粗\n",
    "\n",
    "def td_red(table,x, y,content):\n",
    "    \"\"\"\n",
    "    td红色字体\n",
    "    :param table: 表格对象\n",
    "    :param x: x坐标\n",
    "    :param y: y坐标\n",
    "    :param content: 内容\n",
    "    :return: None\n",
    "    \"\"\"\n",
    "    run = table.cell(x, y).paragraphs[0].add_run(content)\n",
    "    run.font.size = Pt(11)\n",
    "    run.font.color.rgb = RGBColor(255, 0, 0)\n",
    "\n",
    "th(0,0,\"歌曲\")\n",
    "th(0,1,\"演唱者\")\n",
    "th(0,2,\"作曲\")\n",
    "th(0,3,\"作词\")\n",
    "th(0,4,\"类型\")\n",
    "\n",
    "table.cell(1,0).text = \"《风起时》\"\n",
    "td_red(table,1,1,\"胡歌\")\n",
    "table.cell(1,2).text = \"孟可\"\n",
    "table.cell(1,3).text = \"海宴\"\n",
    "table.cell(1,4).text = \"主题曲、片尾曲\"\n",
    "\n",
    "table.cell(2,0).text = \"《红颜旧》\"\n",
    "table.cell(2,1).text = \"刘涛\"\n",
    "table.cell(2,2).text = \"赵佳霖\"\n",
    "table.cell(2,3).text = \"袁亮\"\n",
    "table.cell(2,4).text = \"插曲\"\n",
    "\n",
    "table.cell(3,0).text = \"《赤血长殷》\"\n",
    "table.cell(3,1).text = \"王凯\"\n",
    "table.cell(3,2).text = \"于海航\"\n",
    "table.cell(3,3).text = \"清彦、冰封\"\n",
    "table.cell(3,4).text = \"插曲\"\n",
    "\n",
    "table.style = document.styles['Table Grid']  # 表格样式\n",
    "\n",
    "document.save('./data/琅琊榜.docx')  #保存文档\n"
   ]
  },
  {
   "cell_type": "markdown",
   "metadata": {},
   "source": [
    "### 批量生成审批报告"
   ]
  },
  {
   "cell_type": "code",
   "execution_count": 3,
   "metadata": {},
   "outputs": [],
   "source": [
    "from docx import Document\n",
    "from docx.enum.text import WD_PARAGRAPH_ALIGNMENT\n",
    "from docx.shared import Pt      \n",
    "from docx.oxml.ns import qn     \n",
    "from docx.shared import Inches \n",
    "import time\n",
    "#客户名单\n",
    "company_list = ['客户张三','客户李四']\n",
    "today = time.strftime(\"%Y{y}%m{m}%d{d}\",time.localtime()).format(y='年',m='月',d='日') #获取今日时间，整理成年月日格式\n",
    "\n",
    "for i in company_list:\n",
    "    document = Document()\n",
    "    document.styles['Normal'].font.name = u'宋体'  #设置文档的基础字体\n",
    "    document.styles['Normal'].element.rPr.rFonts.set(qn('w:eastAsia'),u'宋体')  #设置文档的基础中文字体\n",
    "    document.styles['Normal'].font.size = Pt(14)#设置文档字体为14磅\n",
    "    \n",
    "    #插入图片\n",
    "    document.add_picture('./data/logo.png', height=Inches(1))  # 在文档上方插入图片作为文件红头，宽度为6英寸\n",
    "    last_paragraph = document.paragraphs[-1]\n",
    "    last_paragraph.alignment = WD_ALIGN_PARAGRAPH.CENTER\n",
    "    \n",
    "    #建立第一个自然段\n",
    "    p1 = document.add_paragraph()  #初始化建立第一个自然段\n",
    "    p1.alignment = WD_PARAGRAPH_ALIGNMENT.CENTER  #对齐方式为居中，没有这句默认为左对齐\n",
    "    run1 = p1.add_run('审批报告说明')\n",
    "    run1.font.name = u'微软雅黑'   #设置西文字体\n",
    "    run1.element.rPr.rFonts.set(qn('w:eastAsia'),u'微软雅黑')  #设置段中文字体\n",
    "    run1.font.size = Pt(21)   #设置字体大小为21磅\n",
    "    run1.font.bold = True    #设置加粗\n",
    "\n",
    "\n",
    "    #建立第二个自然段\n",
    "    p2 = document.add_paragraph()  #初始化建立第二个自然段\n",
    "    run2 = p2.add_run('尊敬的%s:'%i)   #这个是对客户称谓\n",
    "    run2.font.name = u'仿宋_GB2312'   #设置西文字体\n",
    "    run2.element.rPr.rFonts.set(qn('w:eastAsia'),u'仿宋_GB2312')  #设置段中文字体\n",
    "    run2.font.size = Pt(16)   #设置字体大小为16磅\n",
    "    run2.font.bold = True    #设置加粗\n",
    "\n",
    "    #建立第三个自然段\n",
    "    p3 = document.add_paragraph()  #初始化建立第三个自然段\n",
    "    run3 = p3.add_run('   非常感谢贵公司长期以来对我公司支持。我公司同意了该项目的审核批复，今后与贵公司的联络和业务跟进工作由我公司Bobo负责，请贵公司一如既往得给与合作和支持。谢谢')   #内容\n",
    "    run3.font.name = u'仿宋_GB2312'   #设置西文字体\n",
    "    run3.element.rPr.rFonts.set(qn('w:eastAsia'),u'仿宋_GB2312')  #设置段中文字体\n",
    "    run3.font.size = Pt(16)   #设置字体大小为16磅\n",
    "    run3.font.bold = True    #设置加粗\n",
    "\n",
    "    #建立第四个自然段\n",
    "    p4 = document.add_paragraph()  #初始化建立第四个自然段\n",
    "    p4.alignment = WD_PARAGRAPH_ALIGNMENT.RIGHT  # 对齐方式为居中\n",
    "    run4 = p4.add_run('联系人：小明  电话：188888888888')   #内容\n",
    "    run4.font.name = u'仿宋_GB2312'   #设置西文字体\n",
    "    run4.element.rPr.rFonts.set(qn('w:eastAsia'),u'仿宋_GB2312')  #设置段中文字体\n",
    "    run4.font.size = Pt(16)   #设置字体大小为16磅\n",
    "    run4.font.bold = True    #设置加粗\n",
    "\n",
    "\n",
    "    #插入表格\n",
    "    table = document.add_table(rows=3,cols=3,style=\"Table Grid\")   #添加3行3列表格\n",
    "    table.cell(0,0).merge(table.cell(0,2))   #将第一行合并，将0行0列合并到0行2列\n",
    "    table_run1 = table.cell(0,0).paragraphs[0].add_run('%s产品报价表'%i)\n",
    "    table_run1.font.name = u'隶书'\n",
    "    table_run1.element.rPr.rFonts.set(qn('w:eastAsia'),u'隶书')\n",
    "    table.cell(0,0).paragraphs[0].alignment = WD_PARAGRAPH_ALIGNMENT.CENTER\n",
    "\n",
    "    table.cell(1,0).text = '日期'\n",
    "    table.cell(1,1).text = '价格'\n",
    "    table.cell(1,2).text = '备注'\n",
    "    table.cell(2,0).text = today\n",
    "    table.cell(2,1).text = str('100.00')\n",
    "    table.cell(2,2).text = ''\n",
    "\n",
    "\n",
    "    document.save('./data/%s-审批报告.docx' % i)\n"
   ]
  }
 ],
 "metadata": {
  "kernelspec": {
   "display_name": "Python 3",
   "language": "python",
   "name": "python3"
  },
  "language_info": {
   "codemirror_mode": {
    "name": "ipython",
    "version": 3
   },
   "file_extension": ".py",
   "mimetype": "text/x-python",
   "name": "python",
   "nbconvert_exporter": "python",
   "pygments_lexer": "ipython3",
   "version": "3.7.1"
  }
 },
 "nbformat": 4,
 "nbformat_minor": 2
}
