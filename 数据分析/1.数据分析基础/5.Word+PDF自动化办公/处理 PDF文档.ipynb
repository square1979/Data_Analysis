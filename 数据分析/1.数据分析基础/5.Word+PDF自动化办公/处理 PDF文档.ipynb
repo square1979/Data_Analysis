{
 "cells": [
  {
   "cell_type": "markdown",
   "metadata": {},
   "source": [
    "### PDF介绍\n",
    "- 在学习和工作中大家一定对pdf非常熟悉。事实上，pdf也是非常重要并且应用广泛的一种数字媒体。PDF全称是Portable Document Format,即可移植的文档格式。它使用.pdf作为扩展名。用于可靠的呈现和交换文档，与软件，硬件和操作系统无关。\n",
    "- pdf使用Adobe公司开发，现在由国际标准化组织ISO进行维护。\n",
    "\n"
   ]
  },
  {
   "cell_type": "markdown",
   "metadata": {},
   "source": [
    "### 环境安装"
   ]
  },
  {
   "cell_type": "markdown",
   "metadata": {},
   "source": [
    "- Python处理PDF\n",
    "    - 用于处理 PDF 的模块是 PyPDF2。\n",
    "    - 要安装它，就从命令行运行 pip install PyPDF2\n",
    "        - 这个模块名称是区分大小写的，所以要确保 y 是小写，其他字母都是大写"
   ]
  },
  {
   "cell_type": "code",
   "execution_count": 33,
   "metadata": {},
   "outputs": [],
   "source": [
    "import PyPDF2"
   ]
  },
  {
   "cell_type": "markdown",
   "metadata": {},
   "source": [
    "- PyPDF2可以实现：\n",
    "    - 提取文档信息（标题，作者，...）\n",
    "    - 按页拆分文档\n",
    "    - 逐页合并文档\n",
    "    - 裁剪页面\n",
    "    - 合并多个页面到一个页\n",
    "    - 对pdf文档进行加密解密\n",
    "    - ......"
   ]
  },
  {
   "cell_type": "markdown",
   "metadata": {},
   "source": [
    "### 读取PDF文件操作"
   ]
  },
  {
   "cell_type": "markdown",
   "metadata": {},
   "source": [
    "- 打开指定文件"
   ]
  },
  {
   "cell_type": "code",
   "execution_count": 34,
   "metadata": {},
   "outputs": [],
   "source": [
    "import PyPDF2\n",
    "pdfFile = open('./data/example.pdf','rb')"
   ]
  },
  {
   "cell_type": "markdown",
   "metadata": {},
   "source": [
    "- 创建读取器对象"
   ]
  },
  {
   "cell_type": "code",
   "execution_count": 35,
   "metadata": {},
   "outputs": [
    {
     "data": {
      "text/plain": [
       "<PyPDF2.pdf.PdfFileReader at 0x10afe1cf8>"
      ]
     },
     "execution_count": 35,
     "metadata": {},
     "output_type": "execute_result"
    }
   ],
   "source": [
    "pdfReader = PyPDF2.PdfFileReader(pdfFile)\n",
    "pdfReader"
   ]
  },
  {
   "cell_type": "markdown",
   "metadata": {},
   "source": [
    "- 返回总页码数"
   ]
  },
  {
   "cell_type": "code",
   "execution_count": 36,
   "metadata": {},
   "outputs": [
    {
     "data": {
      "text/plain": [
       "40"
      ]
     },
     "execution_count": 36,
     "metadata": {},
     "output_type": "execute_result"
    }
   ],
   "source": [
    "pdfReader.numPages"
   ]
  },
  {
   "cell_type": "markdown",
   "metadata": {},
   "source": [
    "- 获取指定页面对象"
   ]
  },
  {
   "cell_type": "code",
   "execution_count": 37,
   "metadata": {},
   "outputs": [],
   "source": [
    "page = pdfReader.getPage(0)"
   ]
  },
  {
   "cell_type": "markdown",
   "metadata": {},
   "source": [
    "- 提取出页面中的文字"
   ]
  },
  {
   "cell_type": "code",
   "execution_count": 38,
   "metadata": {},
   "outputs": [
    {
     "data": {
      "text/plain": [
       "'OOFFFFIICCIIAALL  BBOOAARRDD  MMIINNUUTTEESS   Meeting of \\nMarch 7\\n, 2014\\n        \\n     The Board of Elementary and Secondary Education shall provide leadership and \\ncreate policies for education that expand opportunities for children, empower \\nfamilies and communities, and advance Louisiana in an increasingly \\ncompetitive glob\\nal market.\\n BOARD \\n of ELEMENTARY\\n and \\n SECONDARY\\n EDUCATION\\n  '"
      ]
     },
     "execution_count": 38,
     "metadata": {},
     "output_type": "execute_result"
    }
   ],
   "source": [
    "page.extractText()"
   ]
  },
  {
   "cell_type": "markdown",
   "metadata": {},
   "source": [
    "- 注意:\n",
    "    - 虽然PDF文件非常适合以一种便于打印和阅读的方式显示文本，但是对于程序来说，将其解析为纯文本并不容易。因此，PyPDF2在从PDF中提取文本时可能会出错，甚至可能根本无法打开某些PDF。很不幸的是，我们对此无能为力。\n"
   ]
  },
  {
   "cell_type": "markdown",
   "metadata": {},
   "source": [
    "### PDF的写入操作"
   ]
  },
  {
   "cell_type": "markdown",
   "metadata": {},
   "source": [
    "- 将一个完整pdf拆分成两个单独的pdf文件进行保存,且去除不想要的指定页面"
   ]
  },
  {
   "cell_type": "code",
   "execution_count": 39,
   "metadata": {},
   "outputs": [],
   "source": [
    "import PyPDF2\n",
    "pdfFile = open('./data/example.pdf','rb')\n",
    "#创建读取器对象\n",
    "pdfReader = PyPDF2.PdfFileReader(pdfFile)\n",
    "#创建写入器对象\n",
    "pdfWriter1 = PyPDF2.PdfFileWriter()\n",
    "pdfWriter2 = PyPDF2.PdfFileWriter()\n",
    "\n",
    "all_pages = pdfReader.numPages\n",
    "for page in range(all_pages):\n",
    "    #去除不想要的页面\n",
    "    if page in [1,3,5,7,9]:\n",
    "        continue\n",
    "    #获取中间页码值\n",
    "    middle_num = all_pages // 2\n",
    "    #提取一页数据\n",
    "    pageObj = pdfReader.getPage(page)\n",
    "    if page <= middle_num:\n",
    "        pdfWriter1.addPage(pageObj)\n",
    "    else:\n",
    "        pdfWriter2.addPage(pageObj)\n",
    "        \n",
    "f1 = open('./data/example_1.pdf','wb')  \n",
    "f2 = open('./data/example_2.pdf','wb')\n",
    "pdfWriter1.write(f1)\n",
    "pdfWriter2.write(f2)\n",
    "\n",
    "pdfFile.close()\n",
    "f1.close()\n",
    "f2.close()"
   ]
  },
  {
   "cell_type": "markdown",
   "metadata": {},
   "source": [
    "- 注意：\n",
    "    - PyPDF2 不能在 PdfFileWriter 对象中间插入页面，addPage()方法只能够在末尾添加页面。"
   ]
  },
  {
   "cell_type": "markdown",
   "metadata": {},
   "source": [
    "- 旋转页面\n",
    "    - 利用 rotateClockwise()和 rotateCounterClockwise()方法，PDF 文档的页面也可以 旋转 90 度的整数倍。向这些方法传入整数 90、180 或 270 就可以了"
   ]
  },
  {
   "cell_type": "code",
   "execution_count": 44,
   "metadata": {},
   "outputs": [],
   "source": [
    "#翻转第一张页面\n",
    "import PyPDF2\n",
    "minutesFile = open('./data/example.pdf', 'rb')\n",
    "pdfReader = PyPDF2.PdfFileReader(minutesFile)\n",
    "page = pdfReader.getPage(0)\n",
    "page.rotateCounterClockwise(90)\n",
    "\n",
    "#创建写入器，将翻转的第一张页面添加到写入器中\n",
    "pdfWriter = PyPDF2.PdfFileWriter()\n",
    "pdfWriter.addPage(page)"
   ]
  },
  {
   "cell_type": "code",
   "execution_count": 45,
   "metadata": {},
   "outputs": [],
   "source": [
    "#将翻转的页面写入到一个新的pdf中\n",
    "resultPdfFile = open('./data/rotatedPage.pdf', 'wb')\n",
    "pdfWriter.write(resultPdfFile)\n",
    "resultPdfFile.close()\n",
    "minutesFile.close()"
   ]
  },
  {
   "cell_type": "markdown",
   "metadata": {},
   "source": [
    "- 叠加页面\n",
    "    - PyPDF2 也可以将一页的内容叠加到另一页上，这可以用来在页面上添加公司标志、时间戳或水印。利用 Python，很容易为多个文件添加水印，并且只针对程序 指定的页面添加。"
   ]
  },
  {
   "cell_type": "code",
   "execution_count": 30,
   "metadata": {},
   "outputs": [],
   "source": [
    "import PyPDF2\n",
    "#打开需要添加水印的pdf\n",
    "pythonFile = open('./data/example.pdf', 'rb')\n",
    "#对需要添加水印的pdf生成器读取器\n",
    "pdfReader = PyPDF2.PdfFileReader(pythonFile)\n",
    "\n",
    "#生成水印pdf的读取器\n",
    "pdfWatermarkReader = PyPDF2.PdfFileReader(open('./data/watermark.pdf', 'rb'))"
   ]
  },
  {
   "cell_type": "code",
   "execution_count": 31,
   "metadata": {},
   "outputs": [],
   "source": [
    "#创建写入器对象\n",
    "pdfWriter = PyPDF2.PdfFileWriter()\n",
    "#遍历需要添加水印pdf的每一页\n",
    "for pageNum in range(0, pdfReader.numPages): \n",
    "    #获取页面对象\n",
    "    pageObj = pdfReader.getPage(pageNum)\n",
    "    #添加水印（叠加两张页面）\n",
    "    pageObj.mergePage(pdfWatermarkReader.getPage(0))\n",
    "    #添加到写入器中（注意：写入器中已经添加了水印）\n",
    "    pdfWriter.addPage(pageObj)\n",
    "resultPdfFile = open('./data/watermarkedCover.pdf', 'wb') \n",
    "pdfWriter.write(resultPdfFile)\n",
    "minutesFile.close()\n",
    "resultPdfFile.close()"
   ]
  },
  {
   "cell_type": "markdown",
   "metadata": {},
   "source": [
    "- 加密 PDF\n",
    "    - PdfFileWriter 对象也可以为 PDF 文档进行加密\n",
    "    - encrypt()方法，传入口令字符串。PDF 可以有一个用户口令(允许查看这个PDF)和一个拥有者口令(允许设置打印、注释、 提取文本和其他功能的许可)。用户口令和拥有者口令分别是 encrypt()的第一个和第二个参数。如果只传入一个字符串给 encrypt()，它将作为两个口令。"
   ]
  },
  {
   "cell_type": "code",
   "execution_count": 2,
   "metadata": {},
   "outputs": [],
   "source": [
    "import PyPDF2\n",
    "pdfFile = open('./data/watermark.pdf', 'rb') \n",
    "pdfReader = PyPDF2.PdfFileReader(pdfFile) \n",
    "pdfWriter = PyPDF2.PdfFileWriter()\n",
    "for pageNum in range(pdfReader.numPages): \n",
    "    pdfWriter.addPage(pdfReader.getPage(pageNum))\n",
    "pdfWriter.encrypt('1324')\n",
    "resultPdf = open('./data/encryptedminutes.pdf', 'wb')\n",
    "pdfWriter.write(resultPdf)\n",
    "resultPdf.close()"
   ]
  },
  {
   "cell_type": "markdown",
   "metadata": {},
   "source": [
    "- 项目:从多个 PDF 中合并选择的页面\n",
    "    - 假定你有一个很无聊的任务，需要将几十个 PDF 文件合并成一个 PDF 文件。每 一个文件都有一个封面作为第一页，但你不希望合并后的文件中重复出现这些封 面。即使有许多免费的程序可以合并 PDF，很多也只是简单的将文件合并在一起。 让我们来写一个 Python 程序，定制需要合并到 PDF 中的页面。\n",
    "    - 总的来说，该程序需要完成:\n",
    "        - 找到当前工作目录中所有 PDF 文件。 \n",
    "        - 按文件名排序，这样就能有序地添加这些 PDF。 \n",
    "        - 除了第一页之外，将每个 PDF 的所有页面写入输出的文件。\n",
    "    - 从实现的角度来看，代码需要完成下列任务:\n",
    "        - 调用 os.listdir()，找到当前工作目录中的所有文件，去除掉非 PDF 文件。 \n",
    "        - 调用 Python 的 sort()列表方法，对文件名按字母排序。\n",
    "        - 为输出的 PDF 文件创建 PdfFileWriter 对象。\n",
    "        - 循环遍历每个 PDF 文件，为它创建 PdfFileReader 对象。\n",
    "        - 针对每个 PDF 文件，循环遍历每一页，第一页除外。 将页面添加到输出的 PDF。\n",
    "        - 将输出的 PDF 写入一个文件，名为 allminutes.pdf。\n",
    "        - 针对这个项目，打开一个新的文件编辑器窗口，将它保存为 combinePdfs.py。"
   ]
  },
  {
   "cell_type": "code",
   "execution_count": null,
   "metadata": {},
   "outputs": [],
   "source": []
  }
 ],
 "metadata": {
  "kernelspec": {
   "display_name": "Python 3",
   "language": "python",
   "name": "python3"
  },
  "language_info": {
   "codemirror_mode": {
    "name": "ipython",
    "version": 3
   },
   "file_extension": ".py",
   "mimetype": "text/x-python",
   "name": "python",
   "nbconvert_exporter": "python",
   "pygments_lexer": "ipython3",
   "version": "3.7.1"
  }
 },
 "nbformat": 4,
 "nbformat_minor": 2
}
